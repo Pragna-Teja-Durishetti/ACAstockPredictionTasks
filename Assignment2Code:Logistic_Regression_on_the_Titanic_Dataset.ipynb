{
  "nbformat": 4,
  "nbformat_minor": 0,
  "metadata": {
    "colab": {
      "provenance": [],
      "authorship_tag": "ABX9TyNocRiu60rP9JtLPmylvrHF",
      "include_colab_link": true
    },
    "kernelspec": {
      "name": "python3",
      "display_name": "Python 3"
    },
    "language_info": {
      "name": "python"
    }
  },
  "cells": [
    {
      "cell_type": "markdown",
      "metadata": {
        "id": "view-in-github",
        "colab_type": "text"
      },
      "source": [
        "<a href=\"https://colab.research.google.com/github/Pragna-Teja-Durishetti/ACAstockPredictionTasks/blob/main/Assignment2Code%3ALogistic_Regression_on_the_Titanic_Dataset.ipynb\" target=\"_parent\"><img src=\"https://colab.research.google.com/assets/colab-badge.svg\" alt=\"Open In Colab\"/></a>"
      ]
    },
    {
      "cell_type": "code",
      "execution_count": 5,
      "metadata": {
        "colab": {
          "base_uri": "https://localhost:8080/"
        },
        "id": "QeVGdJlJaVxh",
        "outputId": "0971ecbc-b453-4db8-f872-364e78fdf892"
      },
      "outputs": [
        {
          "output_type": "stream",
          "name": "stdout",
          "text": [
            "First 5 rows:\n",
            "    PassengerId  Survived  Pclass  \\\n",
            "0            1         0       3   \n",
            "1            2         1       1   \n",
            "2            3         1       3   \n",
            "3            4         1       1   \n",
            "4            5         0       3   \n",
            "\n",
            "                                                Name     Sex   Age  SibSp  \\\n",
            "0                            Braund, Mr. Owen Harris    male  22.0      1   \n",
            "1  Cumings, Mrs. John Bradley (Florence Briggs Th...  female  38.0      1   \n",
            "2                             Heikkinen, Miss. Laina  female  26.0      0   \n",
            "3       Futrelle, Mrs. Jacques Heath (Lily May Peel)  female  35.0      1   \n",
            "4                           Allen, Mr. William Henry    male  35.0      0   \n",
            "\n",
            "   Parch            Ticket     Fare Cabin Embarked  \n",
            "0      0         A/5 21171   7.2500   NaN        S  \n",
            "1      0          PC 17599  71.2833   C85        C  \n",
            "2      0  STON/O2. 3101282   7.9250   NaN        S  \n",
            "3      0            113803  53.1000  C123        S  \n",
            "4      0            373450   8.0500   NaN        S  \n",
            "\n",
            "Data types:\n",
            " PassengerId      int64\n",
            "Survived         int64\n",
            "Pclass           int64\n",
            "Name            object\n",
            "Sex             object\n",
            "Age            float64\n",
            "SibSp            int64\n",
            "Parch            int64\n",
            "Ticket          object\n",
            "Fare           float64\n",
            "Cabin           object\n",
            "Embarked        object\n",
            "dtype: object\n",
            "\n",
            "Missing values per column:\n",
            " PassengerId      0\n",
            "Survived         0\n",
            "Pclass           0\n",
            "Name             0\n",
            "Sex              0\n",
            "Age            177\n",
            "SibSp            0\n",
            "Parch            0\n",
            "Ticket           0\n",
            "Fare             0\n",
            "Cabin          687\n",
            "Embarked         2\n",
            "dtype: int64\n"
          ]
        }
      ],
      "source": [
        "import pandas as pd\n",
        "\n",
        "\n",
        "\n",
        "Dataset = pd.read_csv('/content/Titanic-Dataset.csv')\n",
        "\n",
        "\n",
        "print(\"First 5 rows:\\n\", Dataset.head())\n",
        "\n",
        "print(\"\\nData types:\\n\", Dataset.dtypes)\n",
        "\n",
        "\n",
        "print(\"\\nMissing values per column:\\n\", Dataset.isnull().sum())\n"
      ]
    },
    {
      "cell_type": "code",
      "source": [
        "from sklearn.preprocessing import LabelEncoder, StandardScaler\n",
        "def preprocess(df):\n",
        "\n",
        "    df['Age'].fillna(df['Age'].median(), inplace=True)\n",
        "\n",
        "    df['Embarked'].fillna(df['Embarked'].mode()[0], inplace=True)\n",
        "\n",
        "# Cabin has many missing values. So I dropped the column entirely.\n",
        "\n",
        "    df.drop(columns=['Cabin'], inplace=True)\n",
        "    df.drop(columns=['Name', 'Ticket', 'PassengerId'], inplace=True)\n",
        "\n",
        "    le_sex = LabelEncoder()\n",
        "    df['Sex'] = le_sex.fit_transform(df['Sex'])\n",
        "\n",
        "    le_embarked = LabelEncoder()\n",
        "    df['Embarked'] = le_embarked.fit_transform(df['Embarked'])\n",
        "    df = pd.get_dummies(df, columns=['Pclass'], prefix='Pclass')\n",
        "\n",
        "\n",
        "    scaler = StandardScaler()\n",
        "    df[['Fare', 'Age']] = scaler.fit_transform(df[['Fare', 'Age']])\n",
        "    return df\n",
        "\n",
        "df = preprocess(Dataset)\n",
        "\n",
        "print(\"\\nProcessed DataFrame sample:\\n\", df.head())\n",
        "\n"
      ],
      "metadata": {
        "colab": {
          "base_uri": "https://localhost:8080/"
        },
        "id": "XeLT0RU8IKaI",
        "outputId": "7458815c-ab0c-4553-9f8e-9a36ce5f3bc8"
      },
      "execution_count": 6,
      "outputs": [
        {
          "output_type": "stream",
          "name": "stdout",
          "text": [
            "\n",
            "Processed DataFrame sample:\n",
            "    Survived  Sex       Age  SibSp  Parch      Fare  Embarked  Pclass_1  \\\n",
            "0         0    1 -0.565736      1      0 -0.502445         2     False   \n",
            "1         1    0  0.663861      1      0  0.786845         0      True   \n",
            "2         1    0 -0.258337      0      0 -0.488854         2     False   \n",
            "3         1    0  0.433312      1      0  0.420730         2      True   \n",
            "4         0    1  0.433312      0      0 -0.486337         2     False   \n",
            "\n",
            "   Pclass_2  Pclass_3  \n",
            "0     False      True  \n",
            "1     False     False  \n",
            "2     False      True  \n",
            "3     False     False  \n",
            "4     False      True  \n"
          ]
        },
        {
          "output_type": "stream",
          "name": "stderr",
          "text": [
            "<ipython-input-6-4093060866>:4: FutureWarning: A value is trying to be set on a copy of a DataFrame or Series through chained assignment using an inplace method.\n",
            "The behavior will change in pandas 3.0. This inplace method will never work because the intermediate object on which we are setting values always behaves as a copy.\n",
            "\n",
            "For example, when doing 'df[col].method(value, inplace=True)', try using 'df.method({col: value}, inplace=True)' or df[col] = df[col].method(value) instead, to perform the operation inplace on the original object.\n",
            "\n",
            "\n",
            "  df['Age'].fillna(df['Age'].median(), inplace=True)\n",
            "<ipython-input-6-4093060866>:6: FutureWarning: A value is trying to be set on a copy of a DataFrame or Series through chained assignment using an inplace method.\n",
            "The behavior will change in pandas 3.0. This inplace method will never work because the intermediate object on which we are setting values always behaves as a copy.\n",
            "\n",
            "For example, when doing 'df[col].method(value, inplace=True)', try using 'df.method({col: value}, inplace=True)' or df[col] = df[col].method(value) instead, to perform the operation inplace on the original object.\n",
            "\n",
            "\n",
            "  df['Embarked'].fillna(df['Embarked'].mode()[0], inplace=True)\n"
          ]
        }
      ]
    },
    {
      "cell_type": "code",
      "source": [
        "import pandas as pd\n",
        "from sklearn.preprocessing import LabelEncoder, StandardScaler\n",
        "from sklearn.linear_model import LogisticRegression\n",
        "from sklearn.model_selection import train_test_split\n",
        "\n",
        "\n",
        "\n",
        "features = ['Sex', 'Age', 'Fare', 'Pclass_1', 'Pclass_2', 'Pclass_3', 'Embarked', 'SibSp', 'Parch']\n",
        "X = df[features]\n",
        "y = df['Survived']\n",
        "\n",
        "X_train, X_val, y_train, y_val = train_test_split(X, y, test_size=0.2, random_state=42)\n",
        "\n",
        "model = LogisticRegression(max_iter=1000)\n",
        "model.fit(X_train, y_train)\n",
        "\n",
        "coefficients = pd.Series(model.coef_[0], index=X.columns)\n",
        "print(\"Model Coefficients:\\n\", coefficients)\n",
        "print(\"\\nIntercept:\", model.intercept_[0])\n",
        "\n",
        "print(\"\\nInterpretation:\")\n",
        "for feature, coef in coefficients.items():\n",
        "    if coef > 0:\n",
        "        print(f\"  Higher {feature} increases probability of survival.\")\n",
        "    else:\n",
        "        print(f\"   Higher {feature} decreases probability of survival.\")\n"
      ],
      "metadata": {
        "colab": {
          "base_uri": "https://localhost:8080/"
        },
        "id": "2o0izFC7J0-X",
        "outputId": "d7807e9d-a6eb-44ef-cf77-3eadb1205e68"
      },
      "execution_count": 7,
      "outputs": [
        {
          "output_type": "stream",
          "name": "stdout",
          "text": [
            "Model Coefficients:\n",
            " Sex        -2.585546\n",
            "Age        -0.370835\n",
            "Fare        0.178411\n",
            "Pclass_1    0.722242\n",
            "Pclass_2    0.242016\n",
            "Pclass_3   -0.963042\n",
            "Embarked   -0.246791\n",
            "SibSp      -0.287059\n",
            "Parch      -0.124608\n",
            "dtype: float64\n",
            "\n",
            "Intercept: 1.933012294179243\n",
            "\n",
            "Interpretation:\n",
            "   Higher Sex decreases probability of survival.\n",
            "   Higher Age decreases probability of survival.\n",
            "  Higher Fare increases probability of survival.\n",
            "  Higher Pclass_1 increases probability of survival.\n",
            "  Higher Pclass_2 increases probability of survival.\n",
            "   Higher Pclass_3 decreases probability of survival.\n",
            "   Higher Embarked decreases probability of survival.\n",
            "   Higher SibSp decreases probability of survival.\n",
            "   Higher Parch decreases probability of survival.\n"
          ]
        }
      ]
    },
    {
      "cell_type": "code",
      "source": [
        "from sklearn.metrics import accuracy_score, confusion_matrix, precision_score, recall_score, f1_score\n",
        "\n",
        "\n",
        "y_pred = model.predict(X_val)\n",
        "\n",
        "accuracy = accuracy_score(y_val, y_pred)\n",
        "print(\"Accuracy:\", accuracy)\n",
        "\n",
        "\n",
        "conf_matrix = confusion_matrix(y_val, y_pred)\n",
        "print(\"\\nConfusion Matrix:\\n\", conf_matrix)\n",
        "\n",
        "\n",
        "precision = precision_score(y_val, y_pred)\n",
        "recall = recall_score(y_val, y_pred)\n",
        "f1 = f1_score(y_val, y_pred)\n",
        "\n",
        "print(\"\\nPrecision:\", precision)\n",
        "print(\"Recall:\", recall)\n",
        "print(\"F1-score:\", f1)\n"
      ],
      "metadata": {
        "colab": {
          "base_uri": "https://localhost:8080/"
        },
        "id": "5YKgfCp3KNmh",
        "outputId": "5618ac3f-32b8-4375-a3a9-e810cfaaa0e8"
      },
      "execution_count": 8,
      "outputs": [
        {
          "output_type": "stream",
          "name": "stdout",
          "text": [
            "Accuracy: 0.7988826815642458\n",
            "\n",
            "Confusion Matrix:\n",
            " [[90 15]\n",
            " [21 53]]\n",
            "\n",
            "Precision: 0.7794117647058824\n",
            "Recall: 0.7162162162162162\n",
            "F1-score: 0.7464788732394366\n"
          ]
        }
      ]
    },
    {
      "cell_type": "code",
      "source": [
        "from sklearn.metrics import roc_curve, roc_auc_score\n",
        "import matplotlib.pyplot as plt\n",
        "\n",
        "\n",
        "y_proba = model.predict_proba(X_val)[:, 1]\n",
        "\n",
        "fpr, tpr, thresholds = roc_curve(y_val, y_proba)\n",
        "auc_score = roc_auc_score(y_val, y_proba)\n",
        "\n",
        "plt.figure(figsize=(6, 4))\n",
        "plt.plot(fpr, tpr, label=f'Logistic Regression (AUC = {auc_score:.2f})')\n",
        "plt.plot([0, 1], [0, 1], 'k--', label='Random')\n",
        "plt.xlabel('False Positive Rate')\n",
        "plt.ylabel('True Positive Rate')\n",
        "plt.title('ROC Curve')\n",
        "plt.legend()\n",
        "plt.grid(True)\n",
        "plt.show()\n",
        "\n",
        "print(\"AUC Score:\", auc_score)\n"
      ],
      "metadata": {
        "colab": {
          "base_uri": "https://localhost:8080/",
          "height": 427
        },
        "id": "Po8aWJCpKXvr",
        "outputId": "ecfb6088-5de8-4569-e708-4e80ce632c8c"
      },
      "execution_count": 9,
      "outputs": [
        {
          "output_type": "display_data",
          "data": {
            "text/plain": [
              "<Figure size 600x400 with 1 Axes>"
            ],
            "image/png": "[encoded data removed]"
          },
          "metadata": {}
        },
        {
          "output_type": "stream",
          "name": "stdout",
          "text": [
            "AUC Score: 0.8770913770913771\n"
          ]
        }
      ]
    },
    {
      "cell_type": "code",
      "source": [
        "\n",
        "test_df = pd.read_csv('/content/titanic_test.csv')\n",
        "original = test_df\n",
        "test_df['Age'] = test_df['Age'].fillna(df['Age'].median())\n",
        "test_df['Fare'] = test_df['Fare'].fillna(df['Fare'].median())\n",
        "test_df['Embarked'] = test_df['Embarked'].fillna(df['Embarked'].mode()[0])\n",
        "\n",
        "X_test = preprocess(test_df)\n",
        "features = ['Sex', 'Age', 'Fare', 'Pclass_1', 'Pclass_2', 'Pclass_3', 'Embarked', 'SibSp', 'Parch']\n",
        "X_test = X_test[features]\n",
        "\n",
        "\n",
        "\n",
        "y_test_pred = model.predict(X_test)\n"
      ],
      "metadata": {
        "colab": {
          "base_uri": "https://localhost:8080/"
        },
        "id": "2GJYptPwKsFv",
        "outputId": "50f269aa-73f9-499c-aff2-526f92bbe357"
      },
      "execution_count": 10,
      "outputs": [
        {
          "output_type": "stream",
          "name": "stderr",
          "text": [
            "<ipython-input-6-4093060866>:4: FutureWarning: A value is trying to be set on a copy of a DataFrame or Series through chained assignment using an inplace method.\n",
            "The behavior will change in pandas 3.0. This inplace method will never work because the intermediate object on which we are setting values always behaves as a copy.\n",
            "\n",
            "For example, when doing 'df[col].method(value, inplace=True)', try using 'df.method({col: value}, inplace=True)' or df[col] = df[col].method(value) instead, to perform the operation inplace on the original object.\n",
            "\n",
            "\n",
            "  df['Age'].fillna(df['Age'].median(), inplace=True)\n",
            "<ipython-input-6-4093060866>:6: FutureWarning: A value is trying to be set on a copy of a DataFrame or Series through chained assignment using an inplace method.\n",
            "The behavior will change in pandas 3.0. This inplace method will never work because the intermediate object on which we are setting values always behaves as a copy.\n",
            "\n",
            "For example, when doing 'df[col].method(value, inplace=True)', try using 'df.method({col: value}, inplace=True)' or df[col] = df[col].method(value) instead, to perform the operation inplace on the original object.\n",
            "\n",
            "\n",
            "  df['Embarked'].fillna(df['Embarked'].mode()[0], inplace=True)\n"
          ]
        }
      ]
    },
    {
      "cell_type": "code",
      "source": [
        "submission = pd.DataFrame({\n",
        "    'PassengerId': pd.read_csv('/content/titanic_test.csv')['PassengerId'],\n",
        "    'Survived': y_test_pred\n",
        "})\n",
        "\n",
        "\n",
        "submission.to_csv('submission.csv', index=False)\n",
        "print(\"✅ Submission file saved as 'submission.csv'\")\n"
      ],
      "metadata": {
        "colab": {
          "base_uri": "https://localhost:8080/"
        },
        "id": "meJdxpS2MRKR",
        "outputId": "8e1926c5-a9ab-4e9f-d9fb-d9676a091ad3"
      },
      "execution_count": 11,
      "outputs": [
        {
          "output_type": "stream",
          "name": "stdout",
          "text": [
            "✅ Submission file saved as 'submission.csv'\n"
          ]
        }
      ]
    }
  ]
}