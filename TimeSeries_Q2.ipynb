{
  "nbformat": 4,
  "nbformat_minor": 0,
  "metadata": {
    "colab": {
      "provenance": [],
      "authorship_tag": "ABX9TyMIDatGFRA3mGqkBLjgI2F9",
      "include_colab_link": true
    },
    "kernelspec": {
      "name": "python3",
      "display_name": "Python 3"
    },
    "language_info": {
      "name": "python"
    }
  },
  "cells": [
    {
      "cell_type": "markdown",
      "metadata": {
        "id": "view-in-github",
        "colab_type": "text"
      },
      "source": [
        "<a href=\"https://colab.research.google.com/github/Pragna-Teja-Durishetti/ACAstockPredictionTasks/blob/main/TimeSeries_Q2.ipynb\" target=\"_parent\"><img src=\"https://colab.research.google.com/assets/colab-badge.svg\" alt=\"Open In Colab\"/></a>"
      ]
    },
    {
      "cell_type": "markdown",
      "source": [
        "-> The sales values overall increased from 20 to 31 over 10 months.\n",
        "-> There are some ups and downs, but a clear upward trend is there."
      ],
      "metadata": {
        "id": "JUigFtq589nO"
      }
    },
    {
      "cell_type": "code",
      "execution_count": 6,
      "metadata": {
        "colab": {
          "base_uri": "https://localhost:8080/"
        },
        "id": "3BmjeFFI6Np4",
        "outputId": "a257eb0e-25ff-4cb1-8e52-3ad73d662647"
      },
      "outputs": [
        {
          "output_type": "stream",
          "name": "stdout",
          "text": [
            "Moving average of month 2 : 22.0\n",
            "Moving average of month 3 : 24.0\n",
            "Moving average of month 4 : 24.333333333333332\n",
            "Moving average of month 5 : 26.333333333333332\n",
            "Moving average of month 6 : 27.666666666666668\n",
            "Moving average of month 7 : 28.333333333333332\n",
            "Moving average of month 8 : 28.666666666666668\n",
            "Moving average of month 9 : 29.0\n"
          ]
        }
      ],
      "source": [
        "Arr = [20, 24, 22, 26, 25, 28, 30, 27, 29, 31]\n",
        "MA = []\n",
        "\n",
        "\n",
        "n = len(Arr)\n",
        "\n",
        "\n",
        "for i in range(1,n-1):\n",
        "  x = (Arr[i-1]+Arr[i]+Arr[i+1])/3\n",
        "  MA.append(x)\n",
        "  print(\"Moving average of month\",i+1,\":\",MA[i-1])"
      ]
    },
    {
      "cell_type": "markdown",
      "source": [
        "-> Moving average removes short-term noise and lets us see the underlying trend."
      ],
      "metadata": {
        "id": "0mSTVXgD-12z"
      }
    }
  ]
}